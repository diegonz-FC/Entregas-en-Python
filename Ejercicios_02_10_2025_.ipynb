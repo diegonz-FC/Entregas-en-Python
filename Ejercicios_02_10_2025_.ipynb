{
  "nbformat": 4,
  "nbformat_minor": 0,
  "metadata": {
    "colab": {
      "provenance": [],
      "authorship_tag": "ABX9TyP/MLzbzs0vnEdGOpNINHdt",
      "include_colab_link": true
    },
    "kernelspec": {
      "name": "python3",
      "display_name": "Python 3"
    },
    "language_info": {
      "name": "python"
    }
  },
  "cells": [
    {
      "cell_type": "markdown",
      "metadata": {
        "id": "view-in-github",
        "colab_type": "text"
      },
      "source": [
        "<a href=\"https://colab.research.google.com/github/diegonz-FC/Entregas-en-Python/blob/main/Ejercicios_02_10_2025_.ipynb\" target=\"_parent\"><img src=\"https://colab.research.google.com/assets/colab-badge.svg\" alt=\"Open In Colab\"/></a>"
      ]
    },
    {
      "cell_type": "markdown",
      "source": [
        "Ejercicio: Superficie de la Tierra"
      ],
      "metadata": {
        "id": "lB3OHPlObzOM"
      }
    },
    {
      "cell_type": "code",
      "source": [
        "import math\n",
        "a = 6378137\n",
        "c = 6356752.314245\n",
        "e = 1 - (c**2)/(a**2)\n",
        "e_s = math.sqrt(e)\n",
        "r = 6371000\n",
        "area_eo = 2 * math.pi * a**2 * (1 + ((1 - e) / e_s) * math.atanh(e_s))\n",
        "area_sf = 4*math.pi*r**2\n",
        "comp = math.fabs(area_sf-area_eo)\n",
        "print(f'El área con la fórmula de un esferoide oblato es: {area_eo} metros cuadrados')\n",
        "print(f'El área con la formula de superficie de una esfera es: {area_sf} metros cuadrados')\n",
        "print(f'La diferencia es de: {comp} metros')"
      ],
      "metadata": {
        "colab": {
          "base_uri": "https://localhost:8080/"
        },
        "id": "pb-EfT1Zb4PD",
        "outputId": "605dc03b-e159-4c37-9690-feb1d8b1e404"
      },
      "execution_count": 2,
      "outputs": [
        {
          "output_type": "stream",
          "name": "stdout",
          "text": [
            "El área con la fórmula de un esferoide oblato es: 510065621724078.94 metros cuadrados\n",
            "El área con la formula de superficie de una esfera es: 510064471909788.25 metros cuadrados\n",
            "La diferencia es de: 1149814290.6875 metros\n"
          ]
        }
      ]
    },
    {
      "cell_type": "markdown",
      "source": [
        "Ejercicio: Edades"
      ],
      "metadata": {
        "id": "UPHnHiIrcBx1"
      }
    },
    {
      "cell_type": "code",
      "source": [
        "edad = int(input('¿Cuál es su edad? '))\n",
        "if edad >= 0 and edad <= 11:\n",
        "    print('Usted es un niño')\n",
        "\n",
        "elif edad >= 12 and edad <= 17:\n",
        "    print('Usted es un adolescente')\n",
        "\n",
        "elif edad >= 18 and edad <= 29:\n",
        "    print('Usted es un joven')\n",
        "\n",
        "elif edad >= 30 and edad <= 64:\n",
        "    print('Usted es un adulto')\n",
        "\n",
        "elif edad >= 65:\n",
        "    print('Usted es un adulto mayor')\n",
        "\n",
        "else:\n",
        "    print('Vuelva a ejecutar el programa')"
      ],
      "metadata": {
        "colab": {
          "base_uri": "https://localhost:8080/"
        },
        "id": "rQr4yNyDcFWf",
        "outputId": "2610a767-4c6e-405c-d9bf-8c7d31af36d9"
      },
      "execution_count": 3,
      "outputs": [
        {
          "output_type": "stream",
          "name": "stdout",
          "text": [
            "¿Cuál es su edad? 10\n",
            "Usted es un niño\n"
          ]
        }
      ]
    }
  ]
}