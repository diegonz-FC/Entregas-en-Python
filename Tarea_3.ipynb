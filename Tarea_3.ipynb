{
  "nbformat": 4,
  "nbformat_minor": 0,
  "metadata": {
    "colab": {
      "provenance": [],
      "authorship_tag": "ABX9TyPwNrfUxh9043KUyM+iy0p5",
      "include_colab_link": true
    },
    "kernelspec": {
      "name": "python3",
      "display_name": "Python 3"
    },
    "language_info": {
      "name": "python"
    }
  },
  "cells": [
    {
      "cell_type": "markdown",
      "metadata": {
        "id": "view-in-github",
        "colab_type": "text"
      },
      "source": [
        "<a href=\"https://colab.research.google.com/github/diegonz-FC/Entregas-en-Python/blob/main/Tarea_3.ipynb\" target=\"_parent\"><img src=\"https://colab.research.google.com/assets/colab-badge.svg\" alt=\"Open In Colab\"/></a>"
      ]
    },
    {
      "cell_type": "markdown",
      "source": [
        "# Tarea 3 - Python\n",
        "##Ejercicio 1\n",
        "Diseña un programa que convierta dólares americanos a pesos mexicanos, euros, libras esterlinas, yuanes y rublos utilizando una tasa de cambio fija. Muestre la tasa de cambio e imprima los cinco resultados."
      ],
      "metadata": {
        "id": "TDVaN_5NPwjA"
      }
    },
    {
      "cell_type": "code",
      "source": [
        "x = float(input('Escriba la cantidad de dólares a convertir '))\n",
        "# Tasas de cambio:\n",
        "t_mxn = 18.43\n",
        "t_gbp = 0.74\n",
        "t_cny = 7.13\n",
        "t_rub = 82.55\n",
        "\n",
        "# Conversión:\n",
        "mxn = x*t_mxn\n",
        "gbp = x*t_gbp\n",
        "cny = x*t_cny\n",
        "rub = x*t_rub\n",
        "\n",
        "print('Las tasas de cambio son las siguientes:')\n",
        "print('1 dólar = 18.43 mxn.')\n",
        "print('1 dólar = 0.74 libras esterlinas.')\n",
        "print('1 dólar = 7.13 yuanes.')\n",
        "print('1 dólar = 82.55 rublos.')\n",
        "\n",
        "print('Su cantidad en pesos:', round(mxn,2)) # Redondeo a dos decimales\n",
        "print('Su cantidad en libras esterlinas:', round(gbp, 2))\n",
        "print('Su cantidad en yuanes:', round(cny, 2))\n",
        "print('Su cantidad en rublos:', round(rub, 2))"
      ],
      "metadata": {
        "colab": {
          "base_uri": "https://localhost:8080/"
        },
        "id": "u5Wgmih8P4jE",
        "outputId": "92e83847-5c87-4bd4-cd19-f35026d2e966"
      },
      "execution_count": 4,
      "outputs": [
        {
          "output_type": "stream",
          "name": "stdout",
          "text": [
            "Escriba la cantidad de dólares a convertir 5\n",
            "Las tasas de cambio son las siguientes:\n",
            "1 dólar = 18.43 mxn\n",
            "1 dólar = 0.74 libras esterlinas\n",
            "1 dólar = 7.13 yuanes\n",
            "1 dólar = 82.55 rublos\n",
            "Su cantidad en pesos: 92.15\n",
            "Su cantidad en libras esterlinas: 3.7\n",
            "Su cantidad en yuanes: 35.65\n",
            "Su cantidad en rublos: 412.75\n"
          ]
        }
      ]
    },
    {
      "cell_type": "markdown",
      "source": [
        "## Ejercicio 2\n",
        "Crea un programa que solicite al usuario dos números y realice las operaciones básicas como suma, resta, multiplicación, división, potenciación y raíz cuadrada. Muestra los resultados usando variables."
      ],
      "metadata": {
        "id": "W4uP07byjRV0"
      }
    },
    {
      "cell_type": "code",
      "source": [
        "x = float(input(\"Escriba el primer número \"))\n",
        "y = float(input(\"Escriba el segundo número \"))\n",
        "\n",
        "# Operaciones:\n",
        "sum = x + y\n",
        "res = x - y\n",
        "mult = x * y\n",
        "\n",
        "if not y == 0:\n",
        "  div = round(x / y, 2)\n",
        "else:\n",
        "  div = 'La división entre 0 está indeterminada'\n",
        "\n",
        "pot = x ** y\n",
        "\n",
        "if x >= 0:\n",
        "  sqr1 = x ** 0.5\n",
        "else:\n",
        "  print('La raíz no está definida para números menores que 0')\n",
        "\n",
        "if y >= 0:\n",
        "  sqr2 = y ** 0.5\n",
        "else:\n",
        "    print('La raíz no está definida para números menores que 0')\n",
        "\n",
        "print('Las operaciones entre los números que ha dado redondeados a dos decimales son: ')\n",
        "print('Suma:', round(sum, 2))\n",
        "print('Resta: ', round(res, 2))\n",
        "print('Multiplicación: ', round(mult, 2))\n",
        "print('División: ', div)\n",
        "print('Potencia: ', round(pot, 2))\n",
        "print('Ráiz cuadrada. 1er número: ', round(sqr1, 2), '2do número: ', round(sqr2, 2))\n"
      ],
      "metadata": {
        "colab": {
          "base_uri": "https://localhost:8080/"
        },
        "id": "NvN38MOIjVo_",
        "outputId": "af54a093-a507-4ce6-8dc6-c506a8f8c1b0"
      },
      "execution_count": 16,
      "outputs": [
        {
          "output_type": "stream",
          "name": "stdout",
          "text": [
            "Escriba el primer número 4\n",
            "Escriba el segundo número 5\n",
            "Las operaciones entre los números que ha dado redondeados a dos decimales son: \n",
            "Suma: 9.0\n",
            "Resta:  -1.0\n",
            "Multiplicación:  20.0\n",
            "División:  0.8\n",
            "Potencia:  1024.0\n",
            "Ráiz cuadrada. 1er número:  2.0 2do número:  2.24\n"
          ]
        }
      ]
    },
    {
      "cell_type": "markdown",
      "source": [
        "## Ejercicio 3\n",
        "Desarrolla un programa que calcule el precio final de un producto después de aplicar un descuento. El usuario debe ingresar el precio original y el porcentaje de descuento. Utiliza variables para almacenar los valores."
      ],
      "metadata": {
        "id": "UGma_jVznKhn"
      }
    },
    {
      "cell_type": "code",
      "source": [
        "x = float(input('Ingrese el precio del artículo '))\n",
        "y = float(input('Ingrese el porcentaje de descuento '))\n",
        "\n",
        "pf = x - (x*(y/100))\n",
        "\n",
        "print('El precio final de su artículo con el descuento aplicado es de', round(pf, 2), 'pesos.')"
      ],
      "metadata": {
        "colab": {
          "base_uri": "https://localhost:8080/"
        },
        "id": "VlmG1zyUnS97",
        "outputId": "6f8c076a-92a7-4544-f303-ec649724a3d1"
      },
      "execution_count": 21,
      "outputs": [
        {
          "output_type": "stream",
          "name": "stdout",
          "text": [
            "Ingrese el precio del artículo 56\n",
            "Ingrese el porcentaje de descuento 10\n",
            "El precio final de su artículo con el descuento aplicado es de 50.4 pesos.\n"
          ]
        }
      ]
    },
    {
      "cell_type": "markdown",
      "source": [
        "## Ejercicio 4\n",
        "Conversión de coordenadas y localización geográfica."
      ],
      "metadata": {
        "id": "txLnXi_uoKOu"
      }
    },
    {
      "cell_type": "code",
      "source": [
        "from re import L\n",
        "# Convirtiendo las coordenadas:\n",
        "\n",
        "# Coordenada 1:\n",
        "Lg1 = 40\n",
        "Lm1 = 41\n",
        "Ls1 = 21\n",
        "LNg1 = 74\n",
        "LNm1 = 2\n",
        "LNs1 = 40\n",
        "\n",
        "#Coordenada 2:\n",
        "Lg2 = 48\n",
        "Lm2 = 51\n",
        "Ls2 = 12\n",
        "LNg2 = 2\n",
        "LNm2 = 20\n",
        "LNs2 = 55\n",
        "\n",
        "#Coordenada 3:\n",
        "Lg3 = 34\n",
        "Lm3 = 3\n",
        "Ls3 = 8\n",
        "LNg3 = 151\n",
        "LNm3 = 12\n",
        "LNs3 = 33\n",
        "\n",
        "#Conversiones:\n",
        "CL1 = Lg1 + (Lm1 / 60) + (Ls1 / 3600)\n",
        "CLN1 = -(LNg1 + (LNm1 / 60) + (LNs1 / 3600))\n",
        "CL2 = Lg2 + (Lm2 / 60) + (Ls2 / 3600)\n",
        "CLN2 = LNg2 + (LNm2 / 60) + (LNs2 / 3600)\n",
        "CL3 = -(Lg3 + (Lm3 / 60) + (Ls3 / 3600))\n",
        "CLN3 = LNg3 + (LNm3 / 60) + (LNs3 / 3600)\n",
        "\n",
        "# Resultados:\n",
        "print('La coordenada 1 tiene latitud =', round(CL1, 3), 'y longitud =', round(CLN1, 3), 'Allí se encuentra la Estatua de la Libertad.')\n",
        "print('La coordenada 2 tiene latitud =', round(CL2, 3), 'y latidud =', round(CLN2, 3), 'Allí se encuentra la Catedral de Notre-Dame')\n",
        "print('La coordenada 3 tiene latitud =', round(CL3, 3), 'y latidud =', round(CLN3, 3), 'Se encuentra en Australia, cerca de la península Doughboy Head, cerca se encuentra la Boat Harbour Aquatic Reserve.')\n",
        "print('Se buscaron las coordenadas en Google Earth.')"
      ],
      "metadata": {
        "colab": {
          "base_uri": "https://localhost:8080/"
        },
        "id": "H0h9L6DNpzak",
        "outputId": "a7cef357-7d7a-48f7-e198-119a9e12bc04"
      },
      "execution_count": 32,
      "outputs": [
        {
          "output_type": "stream",
          "name": "stdout",
          "text": [
            "La coordenada 1 tiene latitud = 40.689 y longitud = -74.044 Allí se encuentra la Estatua de la Libertad.\n",
            "La coordenada 2 tiene latitud = 48.853 y latidud = 2.349 Allí se encuentra la Catedral de Notre-Dame\n",
            "La coordenada 3 tiene latitud = -34.052 y latidud = 151.209 Se encuentra en Australia, cerca de la península Doughboy Head, cerca se encuentra la Boat Harbour Aquatic Reserve.\n",
            "Se buscaron las coordenadas en Google Earth.\n"
          ]
        }
      ]
    },
    {
      "cell_type": "markdown",
      "source": [
        "## Ejercicio 5\n",
        "Un objeto de masa m=2 kg se encuentra a una altura h=10 cm y tiene una velocidad de v=3 m/s. Calcular:\n",
        "\n",
        "a) La energía cinética (Ec),\n",
        "\n",
        "b) La energía potencial gravitacional (Ep),\n",
        "\n",
        "c) La energía mecánica total (Em).\n",
        "\n",
        "Considere g=9.8m/s^2. Revise las unidades."
      ],
      "metadata": {
        "id": "uHARdP4AwIat"
      }
    },
    {
      "cell_type": "code",
      "source": [
        "m = 2\n",
        "v = 3\n",
        "h = 0.1 # En metros\n",
        "g = 9.8\n",
        "\n",
        "# Cálculo de energías:\n",
        "Ec = (1/2) * m * (v**2)\n",
        "Ep = m * g * h\n",
        "Em = Ec + Ep\n",
        "\n",
        "print('La energía cinética es ', Ec, 'J')\n",
        "print('La energía potencial es ', round(Ep, 3), 'J')\n",
        "print('La energía mecánica es ', Em, 'J')"
      ],
      "metadata": {
        "colab": {
          "base_uri": "https://localhost:8080/"
        },
        "id": "K_-4wj6jw4Vh",
        "outputId": "a6e5de4b-141a-41a6-df68-f1db8b87f5b0"
      },
      "execution_count": 35,
      "outputs": [
        {
          "output_type": "stream",
          "name": "stdout",
          "text": [
            "La energía cinética es  9.0 J\n",
            "La energía potencial es  1.96 J\n",
            "La energía mecánica es  10.96 J\n"
          ]
        }
      ]
    },
    {
      "cell_type": "markdown",
      "source": [
        "## Ejercicio 6\n",
        "Escribe un programa que pida un número entero y determine si es par o impar utilizando la sentencia if-elif-else. Si el valor ingresado no es un entero válido, el programa debe indicarlo y que vuelva a ejecutar el programa."
      ],
      "metadata": {
        "id": "BneKnNwnx1AH"
      }
    },
    {
      "cell_type": "code",
      "source": [
        "x = float(input('Proporcione un número entero '))\n",
        "\n",
        "# Ver que es entero:\n",
        "if x % 1 != 0:\n",
        "  print('Proporcione un entero, ejecute el programa nuevamente.')\n",
        "\n",
        "# Ver que es par:\n",
        "elif x % 2 == 0:\n",
        "  print('El número proporcionado es par.')\n",
        "\n",
        "else:\n",
        "  print('El número proporcionado es impar.')"
      ],
      "metadata": {
        "colab": {
          "base_uri": "https://localhost:8080/"
        },
        "id": "bmbOa8VFx5U_",
        "outputId": "040a2739-c540-4e8e-84a0-18c5c94c2955"
      },
      "execution_count": 71,
      "outputs": [
        {
          "output_type": "stream",
          "name": "stdout",
          "text": [
            "Proporcione un número entero -1\n",
            "El número proporcionado es impar.\n"
          ]
        }
      ]
    },
    {
      "cell_type": "markdown",
      "source": [
        "## Ejercicio 7\n",
        "Solicite al usuario que ingrese los valores de los lados de un triángulo (enteros positivos) y realice lo siguiente:\n",
        "\n",
        "a).- Valide que formen un triángulo (desigualdad triangular).\n",
        "\n",
        "b).- Si forman un triángulo, indica si es equilátero, isosceles o escaleno."
      ],
      "metadata": {
        "id": "IENfDSPK1wi1"
      }
    },
    {
      "cell_type": "code",
      "source": [
        "a = float(input('Introduzca el valor del primer lado en número entero '))\n",
        "b = float(input('Introduzca el valor del segundo lado en número entero '))\n",
        "c = float(input('Introduzca el valor del tercer lado en número entero '))\n",
        "\n",
        "if a + b > c and a + c > b and b + c > a:\n",
        "  print('El triángulo con dichos lados existe')\n",
        "\n",
        "  if a == b and b == c:\n",
        "    print('El triángulo es equilatero.')\n",
        "\n",
        "  elif a == b or a == c or c == b:\n",
        "    print('El triángulo es isóceles.')\n",
        "\n",
        "  elif a != b and b != c and a != c:\n",
        "    print('El triángulo es escaleno.')\n",
        "\n",
        "else:\n",
        "  print('No es posible formar un triángulo con dichas magnitudes.')"
      ],
      "metadata": {
        "colab": {
          "base_uri": "https://localhost:8080/"
        },
        "id": "J-ii285-10he",
        "outputId": "8ac5f306-496a-4c80-de40-ccc619c5448b"
      },
      "execution_count": 102,
      "outputs": [
        {
          "output_type": "stream",
          "name": "stdout",
          "text": [
            "Introduzca el valor del primer lado en número entero 3\n",
            "Introduzca el valor del segundo lado en número entero 5\n",
            "Introduzca el valor del tercer lado en número entero 4\n",
            "El triángulo con dichos lados existe\n",
            "El triángulo es escaleno.\n"
          ]
        }
      ]
    },
    {
      "cell_type": "markdown",
      "source": [
        "## Ejercicio 8\n",
        "Crea un script en Python que determine cuál de tres números introducidos por el usuario es el mayor, usando sentencias IF anidadas o múltiples ELIF."
      ],
      "metadata": {
        "id": "dTsIsARo5wOF"
      }
    },
    {
      "cell_type": "code",
      "source": [
        "x = float(input('Ingrese un número '))\n",
        "y = float(input('Ingrese otro número '))\n",
        "z = float(input('Ingrese otro número '))\n",
        "\n",
        "if x == y == z:\n",
        "  print('Los números son iguales.')\n",
        "else:\n",
        "  if x <= y and z < y:\n",
        "    print(y, 'es el mayor')\n",
        "\n",
        "  elif z <= x and y < x:\n",
        "    print(x, 'es el mayor')\n",
        "\n",
        "  elif y <= z and x < z:\n",
        "    print(z, 'es el mayor')"
      ],
      "metadata": {
        "colab": {
          "base_uri": "https://localhost:8080/"
        },
        "id": "iC20m7rJ57bZ",
        "outputId": "619054b6-103d-496f-a2bf-415c05f87cec"
      },
      "execution_count": 134,
      "outputs": [
        {
          "output_type": "stream",
          "name": "stdout",
          "text": [
            "Ingrese un número 5\n",
            "Ingrese otro número 3\n",
            "Ingrese otro número 8\n",
            "8.0 es el mayor\n"
          ]
        }
      ]
    },
    {
      "cell_type": "markdown",
      "source": [
        "## Ejercicio 9\n",
        "Programe un script en Python que determine si dos rectas dadas por las ecuaciones y1=m1x + b1 y y2=m2x+b2 se intersectan, son paralelas o coincidentes. Utilice estructuras de control (IF - ELSE) para manejar los diferentes casos."
      ],
      "metadata": {
        "id": "R-4Yd8BDECuo"
      }
    },
    {
      "cell_type": "code",
      "source": [
        "# Sabemos que si dos rectas tienen pendiente distinta, se intersecarán en algún punto.\n",
        "# Sabemos que si dos rectas tienen la misma pendiente pero distinta c (b en este caso), son paralelas.\n",
        "# Sabemos que si dos rectas tienen la misma pendiente y misca c (b), son iguales.\n",
        "\n",
        "# Considerando lo anterior\n",
        "print('La ecuación de una recta esta dada por y = mx +c, donde m es la pendiente. Sean dos rectas:')\n",
        "m1 = float(input('De el valor de m1 (pendiente) '))\n",
        "m2 = float(input('De el valor de m2 (pendiente2) '))\n",
        "b1 = float(input('De el valor de b1 '))\n",
        "b2 = float(input('De el valor de b2 '))\n",
        "\n",
        "# Se intersecan\n",
        "if m1 != m2:\n",
        "  print('Las dos rectas se intersecan.')\n",
        "\n",
        "else:\n",
        "  # Coinciden\n",
        "  if m1 == m2 and b1 == b2:\n",
        "    print('Las rectas coindicen.')\n",
        "  # Se intersecan\n",
        "  elif m1 == m2 and b1 != b2:\n",
        "    print('Las rectas son paralelas.')\n",
        "\n"
      ],
      "metadata": {
        "colab": {
          "base_uri": "https://localhost:8080/"
        },
        "id": "8tHl07FvEOSl",
        "outputId": "fa718681-6690-434e-feca-725c2a05972f"
      },
      "execution_count": 144,
      "outputs": [
        {
          "output_type": "stream",
          "name": "stdout",
          "text": [
            "La ecuación de una recta esta dada por y = mx +c, donde m es la pendiente. Sean dos rectas:\n",
            "De el valor de m1 (pendiente) 2\n",
            "De el valor de m2 (pendiente2) 0\n",
            "De el valor de b1 1\n",
            "De el valor de b2 1\n",
            "Las dos rectas se intersecan.\n"
          ]
        }
      ]
    },
    {
      "cell_type": "markdown",
      "source": [
        "## Ejercicio 10\n",
        "Escriba un programa que solicite al usuario un año y que el programa indique si es bisiesto o no. Recuerde, los años bisiestos son múltiplos de 4, no es el caso para los múltiplos de 100, pero si para los múltiplos de 400."
      ],
      "metadata": {
        "id": "Jo4pvUmuGp8M"
      }
    },
    {
      "cell_type": "code",
      "source": [
        "año = float(input('Ingrese un año '))\n",
        "\n",
        "if año <= 0 or año % 1 != 0:\n",
        "  print('Ingrese un año correcto.')\n",
        "\n",
        "else:\n",
        "  if año % 4 == 0 and año % 100 != 0:\n",
        "    print('El año dado es bisiesto.')\n",
        "\n",
        "  else:\n",
        "    if año % 4 == 0 and año % 100 == 0 and año % 400 == 0:\n",
        "      print('El año dado es bisiesto.')\n",
        "\n",
        "    else:\n",
        "      print('El año no es bisiesto.')"
      ],
      "metadata": {
        "colab": {
          "base_uri": "https://localhost:8080/"
        },
        "id": "lMgP6Iv7Gxye",
        "outputId": "9b9c9d53-9f43-4654-d2f7-c4e061680fe4"
      },
      "execution_count": 174,
      "outputs": [
        {
          "output_type": "stream",
          "name": "stdout",
          "text": [
            "Ingrese un año 300\n",
            "El año no es bisiesto.\n"
          ]
        }
      ]
    }
  ]
}