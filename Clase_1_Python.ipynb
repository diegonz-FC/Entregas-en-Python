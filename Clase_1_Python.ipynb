{
  "nbformat": 4,
  "nbformat_minor": 0,
  "metadata": {
    "colab": {
      "provenance": [],
      "authorship_tag": "ABX9TyPE0b+AQizYv1mD0cRuLgI7",
      "include_colab_link": true
    },
    "kernelspec": {
      "name": "python3",
      "display_name": "Python 3"
    },
    "language_info": {
      "name": "python"
    }
  },
  "cells": [
    {
      "cell_type": "markdown",
      "metadata": {
        "id": "view-in-github",
        "colab_type": "text"
      },
      "source": [
        "<a href=\"https://colab.research.google.com/github/diegonz-FC/Entregas-en-Python/blob/main/Clase_1_Python.ipynb\" target=\"_parent\"><img src=\"https://colab.research.google.com/assets/colab-badge.svg\" alt=\"Open In Colab\"/></a>"
      ]
    },
    {
      "cell_type": "markdown",
      "source": [
        "#Clase 1 - Variables en Python"
      ],
      "metadata": {
        "id": "LQiIQzP88WGk"
      }
    },
    {
      "cell_type": "markdown",
      "source": [
        "Las varibales son sensibles a mayúsculas y minúsculas.\n",
        "\n",
        "Ecuación de la recta que no pasa por el **origen:**\n",
        "\n",
        "---\n",
        "\n",
        "\\begin{equation}\n",
        "y= mx +b\n",
        "\\end{equation}\n",
        "\n",
        "m es la pendiente de la *recta*"
      ],
      "metadata": {
        "id": "Btbc5B2D8Gmt"
      }
    },
    {
      "cell_type": "markdown",
      "source": [
        "Para asignar valor a una variable:"
      ],
      "metadata": {
        "id": "fApJYj6JAKpX"
      }
    },
    {
      "cell_type": "code",
      "source": [
        "x = 15 # integer\n",
        "y = \"Hola Mundo\" # String\n",
        "z = 3.14 # Float - Decimales\n",
        "print(x,y,z)"
      ],
      "metadata": {
        "colab": {
          "base_uri": "https://localhost:8080/"
        },
        "id": "Su5oxQjA_bK3",
        "outputId": "871d5964-681e-42e8-a764-e6a67776161b"
      },
      "execution_count": 2,
      "outputs": [
        {
          "output_type": "stream",
          "name": "stdout",
          "text": [
            "15 Hola Mundo 3.14\n"
          ]
        }
      ]
    },
    {
      "cell_type": "markdown",
      "source": [
        "##Casteo\n",
        "Se especifica el tipo de variable:"
      ],
      "metadata": {
        "id": "ZAi782jQAcoO"
      }
    },
    {
      "cell_type": "code",
      "source": [
        "x = str(3)    # x es un str\n",
        "y = int(3)    # y es un entero\n",
        "z = float(3)  # z es un flotante\n",
        "\n",
        "print(x,y,z)"
      ],
      "metadata": {
        "colab": {
          "base_uri": "https://localhost:8080/"
        },
        "id": "USmqwyF-AkW-",
        "outputId": "f7894f0d-9195-4d16-f81b-23f5df66fa47"
      },
      "execution_count": 7,
      "outputs": [
        {
          "output_type": "stream",
          "name": "stdout",
          "text": [
            "3 3 3.0\n"
          ]
        }
      ]
    },
    {
      "cell_type": "code",
      "source": [
        "print(\n",
        "type(x),\n",
        "type(y),\n",
        "type(z)\n",
        ")"
      ],
      "metadata": {
        "colab": {
          "base_uri": "https://localhost:8080/"
        },
        "id": "dKsdK1-GA2x4",
        "outputId": "87e68a0f-818c-4d8e-db7e-90efc0c5f97d"
      },
      "execution_count": 6,
      "outputs": [
        {
          "output_type": "stream",
          "name": "stdout",
          "text": [
            "<class 'str'> <class 'int'> <class 'float'>\n"
          ]
        }
      ]
    },
    {
      "cell_type": "markdown",
      "source": [
        "##Cadenas"
      ],
      "metadata": {
        "id": "q-QyGR6LCYeP"
      }
    },
    {
      "cell_type": "code",
      "source": [
        "a = \"Miguel\"\n",
        "y = \"Miguel\"\n",
        "print(a,b)"
      ],
      "metadata": {
        "colab": {
          "base_uri": "https://localhost:8080/"
        },
        "id": "gfGIOgpTCWwh",
        "outputId": "ba01258d-f8a3-40a1-e3b5-23ecab857cc6"
      },
      "execution_count": 9,
      "outputs": [
        {
          "output_type": "stream",
          "name": "stdout",
          "text": [
            "Miguel Miguel\n"
          ]
        }
      ]
    },
    {
      "cell_type": "markdown",
      "source": [
        "Asignar valor a varias variables a la vez:"
      ],
      "metadata": {
        "id": "h6JiO36SD2RY"
      }
    },
    {
      "cell_type": "code",
      "source": [
        "d, e, f = \"Orange\", \"Banana\", \"Cherry\"\n",
        "print(d)\n",
        "print(e)\n",
        "print(f)"
      ],
      "metadata": {
        "colab": {
          "base_uri": "https://localhost:8080/"
        },
        "id": "nXwFtN2-DyfL",
        "outputId": "fae0a915-d780-4877-c2e0-5caa126747d2"
      },
      "execution_count": 11,
      "outputs": [
        {
          "output_type": "stream",
          "name": "stdout",
          "text": [
            "Orange\n",
            "Banana\n",
            "Cherry\n"
          ]
        }
      ]
    },
    {
      "cell_type": "markdown",
      "source": [
        "Calcular el área de un triángulo:"
      ],
      "metadata": {
        "id": "8eFeXev2EeYI"
      }
    },
    {
      "cell_type": "code",
      "source": [
        "b=10  # Base del triángulo\n",
        "h=5   # Altura del triángulo\n",
        "A = (b*h)/2   # Fórmula para calcular el área de un triángulo.\n",
        "print('El área del triángulo es:',A,'unidades cuadradas')   # Imprimir"
      ],
      "metadata": {
        "colab": {
          "base_uri": "https://localhost:8080/"
        },
        "id": "tfLjzVqYEgfQ",
        "outputId": "13f445bd-7ead-4b0b-eb04-de1bf4614b9b"
      },
      "execution_count": 17,
      "outputs": [
        {
          "output_type": "stream",
          "name": "stdout",
          "text": [
            "El área del triángulo es: 25.0 unidades cuadradas\n"
          ]
        }
      ]
    },
    {
      "cell_type": "markdown",
      "source": [
        "## Operaciones"
      ],
      "metadata": {
        "id": "V9SzBbU1GcMS"
      }
    },
    {
      "cell_type": "markdown",
      "source": [
        "División /. División entera // Regresa un int redondeado hacia abajo."
      ],
      "metadata": {
        "id": "4aIqi7I7GDiB"
      }
    },
    {
      "cell_type": "code",
      "source": [
        "div = 15 / 4  # resultado es 5.0\n",
        "divent = 15 // 4  # resultado es 3\n",
        "print(div, divent)"
      ],
      "metadata": {
        "colab": {
          "base_uri": "https://localhost:8080/"
        },
        "id": "8xuiPMnIGC4S",
        "outputId": "bb5ab807-1825-4638-a2b2-23ee7dce6b34"
      },
      "execution_count": 19,
      "outputs": [
        {
          "output_type": "stream",
          "name": "stdout",
          "text": [
            "3.75 3\n"
          ]
        }
      ]
    },
    {
      "cell_type": "markdown",
      "source": [
        "Potencia x**n - Raíces"
      ],
      "metadata": {
        "id": "Jq3726EWGiQR"
      }
    },
    {
      "cell_type": "code",
      "source": [
        "pot = 2 ** 3  # resultado es 8\n",
        "sqrt = 9**(1/2)\n",
        "print(pot, sqrt)"
      ],
      "metadata": {
        "colab": {
          "base_uri": "https://localhost:8080/"
        },
        "id": "03FXEiBXGliZ",
        "outputId": "cbed5aa8-495f-44f5-df99-0e4e80e669db"
      },
      "execution_count": 26,
      "outputs": [
        {
          "output_type": "stream",
          "name": "stdout",
          "text": [
            "8 3.0\n"
          ]
        }
      ]
    },
    {
      "cell_type": "markdown",
      "source": [
        "Módulo % , devuelve el residuo entero de la división"
      ],
      "metadata": {
        "id": "rDlZAmKLGuG5"
      }
    },
    {
      "cell_type": "code",
      "source": [
        "mod = 15 % 4  # resultado es 3\n",
        "print(mod)"
      ],
      "metadata": {
        "colab": {
          "base_uri": "https://localhost:8080/"
        },
        "id": "TLj888daGx7J",
        "outputId": "f7b81f6c-7b18-48be-a5b8-a82dfbf3e6a0"
      },
      "execution_count": 21,
      "outputs": [
        {
          "output_type": "stream",
          "name": "stdout",
          "text": [
            "3\n"
          ]
        }
      ]
    },
    {
      "cell_type": "markdown",
      "source": [
        "Palabras reservadas de Python para variables"
      ],
      "metadata": {
        "id": "bL9m0yhyHgGK"
      }
    },
    {
      "cell_type": "code",
      "source": [
        "import keyword\n",
        "print(keyword.kwlist)"
      ],
      "metadata": {
        "colab": {
          "base_uri": "https://localhost:8080/"
        },
        "id": "ikXiRUhqHYvq",
        "outputId": "8838fd98-086a-4e5f-fedd-4ea72918c14a"
      },
      "execution_count": 27,
      "outputs": [
        {
          "output_type": "stream",
          "name": "stdout",
          "text": [
            "['False', 'None', 'True', 'and', 'as', 'assert', 'async', 'await', 'break', 'class', 'continue', 'def', 'del', 'elif', 'else', 'except', 'finally', 'for', 'from', 'global', 'if', 'import', 'in', 'is', 'lambda', 'nonlocal', 'not', 'or', 'pass', 'raise', 'return', 'try', 'while', 'with', 'yield']\n"
          ]
        }
      ]
    },
    {
      "cell_type": "markdown",
      "source": [
        "Números complejos\n"
      ],
      "metadata": {
        "id": "xd53SBnXHyDi"
      }
    },
    {
      "cell_type": "code",
      "source": [
        "comp = 1.2 + 5.0j\n",
        "print(comp, type(comp))"
      ],
      "metadata": {
        "colab": {
          "base_uri": "https://localhost:8080/"
        },
        "id": "XUMcL0O3Hyla",
        "outputId": "ad65f29d-4a15-4815-cd89-68fc7ec1e6db"
      },
      "execution_count": 30,
      "outputs": [
        {
          "output_type": "stream",
          "name": "stdout",
          "text": [
            "(1.2+5j) <class 'complex'>\n"
          ]
        }
      ]
    },
    {
      "cell_type": "markdown",
      "source": [
        "## Ejercicio\n",
        "Transformar a Fahrenheit, Rankin y Kelvin un grado en Celcius."
      ],
      "metadata": {
        "id": "FEkb2-7uIT9C"
      }
    },
    {
      "cell_type": "code",
      "source": [
        "cel = 25\n",
        "kel = cel + 273.15 # Formula Cel a Kel\n",
        "fahr = (cel*(9/5))+32 # Formula Cel a Fahr\n",
        "ran = (cel+273.15)*(9/5) # Fórmula Cel a Ran\n",
        "print('La temperatura en Kelvin es:', kel)\n",
        "print('La temperatura en Fahrenheit es:', fahr)\n",
        "print('La temperatura en Rankin es:', ran)"
      ],
      "metadata": {
        "colab": {
          "base_uri": "https://localhost:8080/"
        },
        "id": "rITG3kBdIUdq",
        "outputId": "b8391e30-11ce-48ad-d1b0-12ed83e4b73a"
      },
      "execution_count": 34,
      "outputs": [
        {
          "output_type": "stream",
          "name": "stdout",
          "text": [
            "La temperatura en Kelvin es: 298.15\n",
            "La temperatura en Fahrenheit es: 77.0\n",
            "La temperatura en Rankin es: 536.67\n"
          ]
        }
      ]
    }
  ]
}