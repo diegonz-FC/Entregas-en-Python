{
  "nbformat": 4,
  "nbformat_minor": 0,
  "metadata": {
    "colab": {
      "provenance": [],
      "authorship_tag": "ABX9TyOyEWkCQT1D77SpZ9rCsiKg",
      "include_colab_link": true
    },
    "kernelspec": {
      "name": "python3",
      "display_name": "Python 3"
    },
    "language_info": {
      "name": "python"
    }
  },
  "cells": [
    {
      "cell_type": "markdown",
      "metadata": {
        "id": "view-in-github",
        "colab_type": "text"
      },
      "source": [
        "<a href=\"https://colab.research.google.com/github/diegonz-FC/Entregas-en-Python/blob/main/Clase_1_Python.ipynb\" target=\"_parent\"><img src=\"https://colab.research.google.com/assets/colab-badge.svg\" alt=\"Open In Colab\"/></a>"
      ]
    },
    {
      "cell_type": "markdown",
      "source": [
        "#Clase 1 - Python\n",
        "##Variables en Python"
      ],
      "metadata": {
        "id": "LQiIQzP88WGk"
      }
    },
    {
      "cell_type": "markdown",
      "source": [
        "Ecuación de la recta que no pasa por el **origen:**\n",
        "\n",
        "---\n",
        "\n",
        "\\begin{equation}\n",
        "y= mx +b\n",
        "\\end{equation}\n",
        "\n",
        "m es la pendiente de la *recta*"
      ],
      "metadata": {
        "id": "Btbc5B2D8Gmt"
      }
    }
  ]
}