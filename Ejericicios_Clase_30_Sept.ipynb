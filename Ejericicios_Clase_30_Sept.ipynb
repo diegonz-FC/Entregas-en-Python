{
  "nbformat": 4,
  "nbformat_minor": 0,
  "metadata": {
    "colab": {
      "provenance": [],
      "authorship_tag": "ABX9TyNju4vwdFYVJOh+XKmuPYZs",
      "include_colab_link": true
    },
    "kernelspec": {
      "name": "python3",
      "display_name": "Python 3"
    },
    "language_info": {
      "name": "python"
    }
  },
  "cells": [
    {
      "cell_type": "markdown",
      "metadata": {
        "id": "view-in-github",
        "colab_type": "text"
      },
      "source": [
        "<a href=\"https://colab.research.google.com/github/diegonz-FC/Entregas-en-Python/blob/main/Ejericicios_Clase_30_Sept.ipynb\" target=\"_parent\"><img src=\"https://colab.research.google.com/assets/colab-badge.svg\" alt=\"Open In Colab\"/></a>"
      ]
    },
    {
      "cell_type": "markdown",
      "source": [
        "Ejercicio 1: Fórmula de Herón de Alejandría"
      ],
      "metadata": {
        "id": "GajnjsM5HLVz"
      }
    },
    {
      "cell_type": "code",
      "source": [
        "# Ejercicio 1: Fórmula de Herón de Alejandría.\n",
        "# Se calcula el área de un triángulo cuyos lados son los siguientes:\n",
        "la = 7\n",
        "lb = 8\n",
        "lc = 9\n",
        "\n",
        "#Semiperímetro:\n",
        "s = (la+lb+lc)/2\n",
        "area = (s*(s-la)*(s-lb)*(s-lc))**(1/2)\n",
        "\n",
        "print(f\"El área de un triangulo de lados {la}, {lb} y {lc} es {area} unidades cuadradas, además debe cumplir que la suma\"\n",
        "      f\" de los dos lados menores sea mayor que el lado mayor y que la suma de el\"\n",
        "      f\"lado mayor con cualquier otro debe ser mayor que el lado restante (Cumpla la desigualdad del triángulo)\")\n"
      ],
      "metadata": {
        "colab": {
          "base_uri": "https://localhost:8080/"
        },
        "id": "Msu832a6NEYk",
        "outputId": "5f0aedd7-8e9b-45ce-878c-b668476103b6"
      },
      "execution_count": 1,
      "outputs": [
        {
          "output_type": "stream",
          "name": "stdout",
          "text": [
            "El área de un triangulo de lados 7, 8 y 9 es 26.832815729997478 unidades cuadradas, además debe cumplir que la suma de los dos lados menores sea mayor que el lado mayor y que la suma de ellado mayor con cualquier otro debe ser mayor que el lado restante (Cumpla la desigualdad del triángulo)\n"
          ]
        }
      ]
    },
    {
      "cell_type": "markdown",
      "source": [
        "Ejercicio 2: Encuentra las raíces del polinomio x^2 - 5x + 6 =  0"
      ],
      "metadata": {
        "id": "UfOp-8ruNI_4"
      }
    },
    {
      "cell_type": "code",
      "source": [
        "#1 - Sea la ecuación x^2 - 5x + 6 =  0, la fórmula general quedaría de la siguiente manera:\n",
        "a = 1\n",
        "b = -5\n",
        "c = 6\n",
        "\n",
        "#El discriminante es 21 mayor que 0, entonces:\n",
        "f1 = (-b + (b**2 - 4*a*c)**(1/2))/(2 * a)\n",
        "f2 = (-b - (b**2 - 4*a*c)**(1/2))/(2 * a)\n",
        "\n",
        "print(f\"Las raíces del polinomio x^2 - 5x + 6 =  0 son: {f1} y {f2}\")"
      ],
      "metadata": {
        "colab": {
          "base_uri": "https://localhost:8080/"
        },
        "id": "UaFy01y-NO-J",
        "outputId": "9ca9fa87-f80c-408b-b667-7f8f9ad9286d"
      },
      "execution_count": 2,
      "outputs": [
        {
          "output_type": "stream",
          "name": "stdout",
          "text": [
            "Las raíces del polinomio x^2 - 5x + 6 =  0 son: 3.0 y 2.0\n"
          ]
        }
      ]
    },
    {
      "cell_type": "markdown",
      "source": [
        "Ejercicio 3: Encuentra las raíces del polinomio x^2 + 4x + 13 = 0"
      ],
      "metadata": {
        "id": "Oqj8TD38NQWl"
      }
    },
    {
      "cell_type": "code",
      "source": [
        "#1 - Sea la ecuación x^2 + 4x + 13 = 0, la fórmula general quedaría de la siguiente manera:\n",
        "a = 1\n",
        "b = 4\n",
        "c = 13\n",
        "\n",
        "#El discriminante es -36 menor que 0, entonces:\n",
        "sr = (-b)/(2 * a)\n",
        "discriminante = (b**2 - 4*a*c)\n",
        "pr = (-discriminante)**0.5 / (2*a)\n",
        "\n",
        "print(f\"Las raíces del polinomio x^2 - 5x + 6 =  0 son: {sr} + {pr}i y {sr} -{pr}i\")"
      ],
      "metadata": {
        "colab": {
          "base_uri": "https://localhost:8080/"
        },
        "id": "6qUjNH2nNWVT",
        "outputId": "3c8ac4bb-ddd9-4833-dbea-ae2701a8e646"
      },
      "execution_count": 3,
      "outputs": [
        {
          "output_type": "stream",
          "name": "stdout",
          "text": [
            "Las raíces del polinomio x^2 - 5x + 6 =  0 son: -2.0 + 3.0i y -2.0 -3.0i\n"
          ]
        }
      ]
    }
  ]
}